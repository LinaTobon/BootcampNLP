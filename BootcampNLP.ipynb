{
 "cells": [
  {
   "cell_type": "markdown",
   "metadata": {
    "id": "xDc-b-VSNQHx"
   },
   "source": [
    "# Classification model for detecting sarcasm"
   ]
  },
  {
   "cell_type": "markdown",
   "metadata": {
    "id": "BaSP191T-G5r"
   },
   "source": [
    "**Problem Overview**. \n",
    "\n",
    "In this challenge, you will work on a dataset that contains news headlines - which are aimed to be written in a sarcastic manner by the news author. Our job here is to build our NLP models and predict whether the headline is sarcastic or not.  \n",
    "\n",
    "\n",
    "**About the Data**\n",
    "Each record of dataset consists of two attributes:  \n",
    "\n",
    "is_sarcastic: 1 if the record is sarcastic otherwise 0. This is the target variable.  \n",
    "\n",
    "headline: this is the headline of the news article"
   ]
  },
  {
   "cell_type": "code",
   "execution_count": 1,
   "metadata": {
    "id": "pnGi5p9wiCMZ"
   },
   "outputs": [],
   "source": [
    "#loading libraries\n",
    "import pandas as pd\n",
    "import numpy as np"
   ]
  },
  {
   "cell_type": "code",
   "execution_count": 2,
   "metadata": {
    "id": "q74Vnk8_-isA"
   },
   "outputs": [],
   "source": [
    "# Loading dataset\n",
    "train = pd.read_csv('Train_Data.csv')\n",
    "validation = pd.read_csv('Test_Data.csv')"
   ]
  },
  {
   "cell_type": "code",
   "execution_count": 3,
   "metadata": {
    "colab": {
     "base_uri": "https://localhost:8080/"
    },
    "id": "ab1Y4cM3_FV6",
    "outputId": "83a13e5f-f031-4e7e-952f-25d89e1d4320"
   },
   "outputs": [
    {
     "name": "stdout",
     "output_type": "stream",
     "text": [
      "<class 'pandas.core.frame.DataFrame'>\n",
      "RangeIndex: 44262 entries, 0 to 44261\n",
      "Data columns (total 2 columns):\n",
      " #   Column        Non-Null Count  Dtype \n",
      "---  ------        --------------  ----- \n",
      " 0   headline      44262 non-null  object\n",
      " 1   is_sarcastic  44262 non-null  int64 \n",
      "dtypes: int64(1), object(1)\n",
      "memory usage: 691.7+ KB\n"
     ]
    }
   ],
   "source": [
    "# getting same basic information about the dataset\n",
    "train.info()"
   ]
  },
  {
   "cell_type": "code",
   "execution_count": 4,
   "metadata": {
    "colab": {
     "base_uri": "https://localhost:8080/"
    },
    "id": "MuN-IPabbKJm",
    "outputId": "8eb65430-3971-4986-c6d2-a4286700bd0f"
   },
   "outputs": [
    {
     "data": {
      "text/plain": [
       "0    23958\n",
       "1    20304\n",
       "Name: is_sarcastic, dtype: int64"
      ]
     },
     "execution_count": 4,
     "metadata": {},
     "output_type": "execute_result"
    }
   ],
   "source": [
    "# Checking how imbalanced is the dataset\n",
    "train['is_sarcastic'].value_counts()"
   ]
  },
  {
   "cell_type": "markdown",
   "metadata": {
    "id": "tGzkT3LJaJal"
   },
   "source": [
    "# Preprocessing"
   ]
  },
  {
   "cell_type": "code",
   "execution_count": 5,
   "metadata": {
    "id": "YVU9arsJ_Rta"
   },
   "outputs": [],
   "source": [
    "#remove empty lines\n",
    "def remove_blanks(dataset,column):\n",
    "  dataset.drop(dataset.loc[dataset[column] == ' ',:].index,axis=0,inplace=True)\n",
    "  return dataset"
   ]
  },
  {
   "cell_type": "code",
   "execution_count": 6,
   "metadata": {
    "colab": {
     "base_uri": "https://localhost:8080/",
     "height": 419
    },
    "id": "BbeM3E9PEIJk",
    "outputId": "737ec5e5-0e45-4df3-a914-4cda8a6de00a"
   },
   "outputs": [
    {
     "data": {
      "text/html": [
       "<div>\n",
       "<style scoped>\n",
       "    .dataframe tbody tr th:only-of-type {\n",
       "        vertical-align: middle;\n",
       "    }\n",
       "\n",
       "    .dataframe tbody tr th {\n",
       "        vertical-align: top;\n",
       "    }\n",
       "\n",
       "    .dataframe thead th {\n",
       "        text-align: right;\n",
       "    }\n",
       "</style>\n",
       "<table border=\"1\" class=\"dataframe\">\n",
       "  <thead>\n",
       "    <tr style=\"text-align: right;\">\n",
       "      <th></th>\n",
       "      <th>headline</th>\n",
       "    </tr>\n",
       "  </thead>\n",
       "  <tbody>\n",
       "    <tr>\n",
       "      <th>0</th>\n",
       "      <td>area stand-up comedian questions the deal with...</td>\n",
       "    </tr>\n",
       "    <tr>\n",
       "      <th>1</th>\n",
       "      <td>dozens of glowing exit signs mercilessly taunt...</td>\n",
       "    </tr>\n",
       "    <tr>\n",
       "      <th>2</th>\n",
       "      <td>perfect response to heckler somewhere in prop ...</td>\n",
       "    </tr>\n",
       "    <tr>\n",
       "      <th>3</th>\n",
       "      <td>gop prays for ossoff lossoff</td>\n",
       "    </tr>\n",
       "    <tr>\n",
       "      <th>4</th>\n",
       "      <td>trevor noah says the scary truth about trump's...</td>\n",
       "    </tr>\n",
       "    <tr>\n",
       "      <th>...</th>\n",
       "      <td>...</td>\n",
       "    </tr>\n",
       "    <tr>\n",
       "      <th>11061</th>\n",
       "      <td>house conservatives claim democrats have faile...</td>\n",
       "    </tr>\n",
       "    <tr>\n",
       "      <th>11062</th>\n",
       "      <td>area man having one of his little bursts of en...</td>\n",
       "    </tr>\n",
       "    <tr>\n",
       "      <th>11063</th>\n",
       "      <td>there is nothing libertarian about conservatives</td>\n",
       "    </tr>\n",
       "    <tr>\n",
       "      <th>11064</th>\n",
       "      <td>mike pompeo startled after seeing 'beware of h...</td>\n",
       "    </tr>\n",
       "    <tr>\n",
       "      <th>11065</th>\n",
       "      <td>how pets can help prevent suicide #nspw2017</td>\n",
       "    </tr>\n",
       "  </tbody>\n",
       "</table>\n",
       "<p>11066 rows × 1 columns</p>\n",
       "</div>"
      ],
      "text/plain": [
       "                                                headline\n",
       "0      area stand-up comedian questions the deal with...\n",
       "1      dozens of glowing exit signs mercilessly taunt...\n",
       "2      perfect response to heckler somewhere in prop ...\n",
       "3                           gop prays for ossoff lossoff\n",
       "4      trevor noah says the scary truth about trump's...\n",
       "...                                                  ...\n",
       "11061  house conservatives claim democrats have faile...\n",
       "11062  area man having one of his little bursts of en...\n",
       "11063   there is nothing libertarian about conservatives\n",
       "11064  mike pompeo startled after seeing 'beware of h...\n",
       "11065        how pets can help prevent suicide #nspw2017\n",
       "\n",
       "[11066 rows x 1 columns]"
      ]
     },
     "execution_count": 6,
     "metadata": {},
     "output_type": "execute_result"
    }
   ],
   "source": [
    "remove_blanks(train,'headline')\n",
    "remove_blanks(validation,'headline')"
   ]
  },
  {
   "cell_type": "code",
   "execution_count": 7,
   "metadata": {
    "colab": {
     "base_uri": "https://localhost:8080/"
    },
    "id": "o1zQnmaBONbW",
    "outputId": "3ada84b8-f5da-414c-ee61-6013c3f48f9b"
   },
   "outputs": [
    {
     "data": {
      "text/plain": [
       "((33196, 1), (11066, 1))"
      ]
     },
     "execution_count": 7,
     "metadata": {},
     "output_type": "execute_result"
    }
   ],
   "source": [
    "# Splitting our dataset into train and test\n",
    "from sklearn.model_selection import train_test_split\n",
    "\n",
    "X_train, X_test, y_train, y_test = train_test_split(train[['headline']], train['is_sarcastic'], random_state=42)\n",
    "X_train.shape, X_test.shape"
   ]
  },
  {
   "cell_type": "markdown",
   "metadata": {
    "id": "vg3uZ1E-8yCT"
   },
   "source": [
    "# Features extraction"
   ]
  },
  {
   "cell_type": "code",
   "execution_count": 8,
   "metadata": {
    "id": "xydyel6pjz7Z"
   },
   "outputs": [],
   "source": [
    "import textblob\n",
    "import string"
   ]
  },
  {
   "cell_type": "code",
   "execution_count": 9,
   "metadata": {},
   "outputs": [],
   "source": [
    "# Extracting polarity and subjetivity\n",
    "def textblob_features(X):\n",
    "    snt_obj = X['headline'].apply(lambda row: textblob.TextBlob(row).sentiment)\n",
    "    X['Polarity'] = [obj.polarity for obj in snt_obj.values]\n",
    "    X['Subjectivity'] = [obj.subjectivity for obj in snt_obj.values]\n",
    "    return X"
   ]
  },
  {
   "cell_type": "code",
   "execution_count": 10,
   "metadata": {},
   "outputs": [
    {
     "data": {
      "text/html": [
       "<div>\n",
       "<style scoped>\n",
       "    .dataframe tbody tr th:only-of-type {\n",
       "        vertical-align: middle;\n",
       "    }\n",
       "\n",
       "    .dataframe tbody tr th {\n",
       "        vertical-align: top;\n",
       "    }\n",
       "\n",
       "    .dataframe thead th {\n",
       "        text-align: right;\n",
       "    }\n",
       "</style>\n",
       "<table border=\"1\" class=\"dataframe\">\n",
       "  <thead>\n",
       "    <tr style=\"text-align: right;\">\n",
       "      <th></th>\n",
       "      <th>headline</th>\n",
       "      <th>Polarity</th>\n",
       "      <th>Subjectivity</th>\n",
       "    </tr>\n",
       "  </thead>\n",
       "  <tbody>\n",
       "    <tr>\n",
       "      <th>0</th>\n",
       "      <td>area stand-up comedian questions the deal with...</td>\n",
       "      <td>0.000000</td>\n",
       "      <td>0.000000</td>\n",
       "    </tr>\n",
       "    <tr>\n",
       "      <th>1</th>\n",
       "      <td>dozens of glowing exit signs mercilessly taunt...</td>\n",
       "      <td>-0.700000</td>\n",
       "      <td>1.000000</td>\n",
       "    </tr>\n",
       "    <tr>\n",
       "      <th>2</th>\n",
       "      <td>perfect response to heckler somewhere in prop ...</td>\n",
       "      <td>1.000000</td>\n",
       "      <td>1.000000</td>\n",
       "    </tr>\n",
       "    <tr>\n",
       "      <th>3</th>\n",
       "      <td>gop prays for ossoff lossoff</td>\n",
       "      <td>0.000000</td>\n",
       "      <td>0.000000</td>\n",
       "    </tr>\n",
       "    <tr>\n",
       "      <th>4</th>\n",
       "      <td>trevor noah says the scary truth about trump's...</td>\n",
       "      <td>0.000000</td>\n",
       "      <td>0.800000</td>\n",
       "    </tr>\n",
       "    <tr>\n",
       "      <th>...</th>\n",
       "      <td>...</td>\n",
       "      <td>...</td>\n",
       "      <td>...</td>\n",
       "    </tr>\n",
       "    <tr>\n",
       "      <th>11061</th>\n",
       "      <td>house conservatives claim democrats have faile...</td>\n",
       "      <td>-0.333333</td>\n",
       "      <td>0.366667</td>\n",
       "    </tr>\n",
       "    <tr>\n",
       "      <th>11062</th>\n",
       "      <td>area man having one of his little bursts of en...</td>\n",
       "      <td>-0.143750</td>\n",
       "      <td>0.450000</td>\n",
       "    </tr>\n",
       "    <tr>\n",
       "      <th>11063</th>\n",
       "      <td>there is nothing libertarian about conservatives</td>\n",
       "      <td>0.000000</td>\n",
       "      <td>0.000000</td>\n",
       "    </tr>\n",
       "    <tr>\n",
       "      <th>11064</th>\n",
       "      <td>mike pompeo startled after seeing 'beware of h...</td>\n",
       "      <td>0.000000</td>\n",
       "      <td>0.000000</td>\n",
       "    </tr>\n",
       "    <tr>\n",
       "      <th>11065</th>\n",
       "      <td>how pets can help prevent suicide #nspw2017</td>\n",
       "      <td>0.000000</td>\n",
       "      <td>0.000000</td>\n",
       "    </tr>\n",
       "  </tbody>\n",
       "</table>\n",
       "<p>11066 rows × 3 columns</p>\n",
       "</div>"
      ],
      "text/plain": [
       "                                                headline  Polarity  \\\n",
       "0      area stand-up comedian questions the deal with...  0.000000   \n",
       "1      dozens of glowing exit signs mercilessly taunt... -0.700000   \n",
       "2      perfect response to heckler somewhere in prop ...  1.000000   \n",
       "3                           gop prays for ossoff lossoff  0.000000   \n",
       "4      trevor noah says the scary truth about trump's...  0.000000   \n",
       "...                                                  ...       ...   \n",
       "11061  house conservatives claim democrats have faile... -0.333333   \n",
       "11062  area man having one of his little bursts of en... -0.143750   \n",
       "11063   there is nothing libertarian about conservatives  0.000000   \n",
       "11064  mike pompeo startled after seeing 'beware of h...  0.000000   \n",
       "11065        how pets can help prevent suicide #nspw2017  0.000000   \n",
       "\n",
       "       Subjectivity  \n",
       "0          0.000000  \n",
       "1          1.000000  \n",
       "2          1.000000  \n",
       "3          0.000000  \n",
       "4          0.800000  \n",
       "...             ...  \n",
       "11061      0.366667  \n",
       "11062      0.450000  \n",
       "11063      0.000000  \n",
       "11064      0.000000  \n",
       "11065      0.000000  \n",
       "\n",
       "[11066 rows x 3 columns]"
      ]
     },
     "execution_count": 10,
     "metadata": {},
     "output_type": "execute_result"
    }
   ],
   "source": [
    "textblob_features(X_train)\n",
    "textblob_features(X_test)\n",
    "textblob_features(validation)"
   ]
  },
  {
   "cell_type": "code",
   "execution_count": 11,
   "metadata": {},
   "outputs": [],
   "source": [
    "# Extracting features based on characters\n",
    "def extract_features(X):\n",
    "    X['char_count'] = X['headline'].apply(len)\n",
    "    X['word_count'] = X['headline'].apply(lambda x: len(x.split()))\n",
    "    X['word_density'] = X['char_count'] / (X['word_count']+1)\n",
    "    X['punctuation_count'] = X['headline'].apply(lambda x: len(\"\".join(_ for _ in x if _ in string.punctuation))) \n",
    "    X['upper_case_word_count'] = X['headline'].apply(lambda x: len([wrd for wrd in x.split() if wrd.isupper()]))\n",
    "    return X"
   ]
  },
  {
   "cell_type": "code",
   "execution_count": 12,
   "metadata": {},
   "outputs": [
    {
     "data": {
      "text/html": [
       "<div>\n",
       "<style scoped>\n",
       "    .dataframe tbody tr th:only-of-type {\n",
       "        vertical-align: middle;\n",
       "    }\n",
       "\n",
       "    .dataframe tbody tr th {\n",
       "        vertical-align: top;\n",
       "    }\n",
       "\n",
       "    .dataframe thead th {\n",
       "        text-align: right;\n",
       "    }\n",
       "</style>\n",
       "<table border=\"1\" class=\"dataframe\">\n",
       "  <thead>\n",
       "    <tr style=\"text-align: right;\">\n",
       "      <th></th>\n",
       "      <th>headline</th>\n",
       "      <th>Polarity</th>\n",
       "      <th>Subjectivity</th>\n",
       "      <th>char_count</th>\n",
       "      <th>word_count</th>\n",
       "      <th>word_density</th>\n",
       "      <th>punctuation_count</th>\n",
       "      <th>upper_case_word_count</th>\n",
       "    </tr>\n",
       "  </thead>\n",
       "  <tbody>\n",
       "    <tr>\n",
       "      <th>0</th>\n",
       "      <td>area stand-up comedian questions the deal with...</td>\n",
       "      <td>0.000000</td>\n",
       "      <td>0.000000</td>\n",
       "      <td>65</td>\n",
       "      <td>9</td>\n",
       "      <td>6.500000</td>\n",
       "      <td>2</td>\n",
       "      <td>0</td>\n",
       "    </tr>\n",
       "    <tr>\n",
       "      <th>1</th>\n",
       "      <td>dozens of glowing exit signs mercilessly taunt...</td>\n",
       "      <td>-0.700000</td>\n",
       "      <td>1.000000</td>\n",
       "      <td>65</td>\n",
       "      <td>9</td>\n",
       "      <td>6.500000</td>\n",
       "      <td>0</td>\n",
       "      <td>0</td>\n",
       "    </tr>\n",
       "    <tr>\n",
       "      <th>2</th>\n",
       "      <td>perfect response to heckler somewhere in prop ...</td>\n",
       "      <td>1.000000</td>\n",
       "      <td>1.000000</td>\n",
       "      <td>62</td>\n",
       "      <td>9</td>\n",
       "      <td>6.200000</td>\n",
       "      <td>1</td>\n",
       "      <td>0</td>\n",
       "    </tr>\n",
       "    <tr>\n",
       "      <th>3</th>\n",
       "      <td>gop prays for ossoff lossoff</td>\n",
       "      <td>0.000000</td>\n",
       "      <td>0.000000</td>\n",
       "      <td>28</td>\n",
       "      <td>5</td>\n",
       "      <td>4.666667</td>\n",
       "      <td>0</td>\n",
       "      <td>0</td>\n",
       "    </tr>\n",
       "    <tr>\n",
       "      <th>4</th>\n",
       "      <td>trevor noah says the scary truth about trump's...</td>\n",
       "      <td>0.000000</td>\n",
       "      <td>0.800000</td>\n",
       "      <td>65</td>\n",
       "      <td>11</td>\n",
       "      <td>5.416667</td>\n",
       "      <td>1</td>\n",
       "      <td>0</td>\n",
       "    </tr>\n",
       "    <tr>\n",
       "      <th>...</th>\n",
       "      <td>...</td>\n",
       "      <td>...</td>\n",
       "      <td>...</td>\n",
       "      <td>...</td>\n",
       "      <td>...</td>\n",
       "      <td>...</td>\n",
       "      <td>...</td>\n",
       "      <td>...</td>\n",
       "    </tr>\n",
       "    <tr>\n",
       "      <th>11061</th>\n",
       "      <td>house conservatives claim democrats have faile...</td>\n",
       "      <td>-0.333333</td>\n",
       "      <td>0.366667</td>\n",
       "      <td>65</td>\n",
       "      <td>8</td>\n",
       "      <td>7.222222</td>\n",
       "      <td>0</td>\n",
       "      <td>0</td>\n",
       "    </tr>\n",
       "    <tr>\n",
       "      <th>11062</th>\n",
       "      <td>area man having one of his little bursts of en...</td>\n",
       "      <td>-0.143750</td>\n",
       "      <td>0.450000</td>\n",
       "      <td>81</td>\n",
       "      <td>17</td>\n",
       "      <td>4.500000</td>\n",
       "      <td>0</td>\n",
       "      <td>0</td>\n",
       "    </tr>\n",
       "    <tr>\n",
       "      <th>11063</th>\n",
       "      <td>there is nothing libertarian about conservatives</td>\n",
       "      <td>0.000000</td>\n",
       "      <td>0.000000</td>\n",
       "      <td>48</td>\n",
       "      <td>6</td>\n",
       "      <td>6.857143</td>\n",
       "      <td>0</td>\n",
       "      <td>0</td>\n",
       "    </tr>\n",
       "    <tr>\n",
       "      <th>11064</th>\n",
       "      <td>mike pompeo startled after seeing 'beware of h...</td>\n",
       "      <td>0.000000</td>\n",
       "      <td>0.000000</td>\n",
       "      <td>87</td>\n",
       "      <td>14</td>\n",
       "      <td>5.800000</td>\n",
       "      <td>2</td>\n",
       "      <td>0</td>\n",
       "    </tr>\n",
       "    <tr>\n",
       "      <th>11065</th>\n",
       "      <td>how pets can help prevent suicide #nspw2017</td>\n",
       "      <td>0.000000</td>\n",
       "      <td>0.000000</td>\n",
       "      <td>43</td>\n",
       "      <td>7</td>\n",
       "      <td>5.375000</td>\n",
       "      <td>1</td>\n",
       "      <td>0</td>\n",
       "    </tr>\n",
       "  </tbody>\n",
       "</table>\n",
       "<p>11066 rows × 8 columns</p>\n",
       "</div>"
      ],
      "text/plain": [
       "                                                headline  Polarity  \\\n",
       "0      area stand-up comedian questions the deal with...  0.000000   \n",
       "1      dozens of glowing exit signs mercilessly taunt... -0.700000   \n",
       "2      perfect response to heckler somewhere in prop ...  1.000000   \n",
       "3                           gop prays for ossoff lossoff  0.000000   \n",
       "4      trevor noah says the scary truth about trump's...  0.000000   \n",
       "...                                                  ...       ...   \n",
       "11061  house conservatives claim democrats have faile... -0.333333   \n",
       "11062  area man having one of his little bursts of en... -0.143750   \n",
       "11063   there is nothing libertarian about conservatives  0.000000   \n",
       "11064  mike pompeo startled after seeing 'beware of h...  0.000000   \n",
       "11065        how pets can help prevent suicide #nspw2017  0.000000   \n",
       "\n",
       "       Subjectivity  char_count  word_count  word_density  punctuation_count  \\\n",
       "0          0.000000          65           9      6.500000                  2   \n",
       "1          1.000000          65           9      6.500000                  0   \n",
       "2          1.000000          62           9      6.200000                  1   \n",
       "3          0.000000          28           5      4.666667                  0   \n",
       "4          0.800000          65          11      5.416667                  1   \n",
       "...             ...         ...         ...           ...                ...   \n",
       "11061      0.366667          65           8      7.222222                  0   \n",
       "11062      0.450000          81          17      4.500000                  0   \n",
       "11063      0.000000          48           6      6.857143                  0   \n",
       "11064      0.000000          87          14      5.800000                  2   \n",
       "11065      0.000000          43           7      5.375000                  1   \n",
       "\n",
       "       upper_case_word_count  \n",
       "0                          0  \n",
       "1                          0  \n",
       "2                          0  \n",
       "3                          0  \n",
       "4                          0  \n",
       "...                      ...  \n",
       "11061                      0  \n",
       "11062                      0  \n",
       "11063                      0  \n",
       "11064                      0  \n",
       "11065                      0  \n",
       "\n",
       "[11066 rows x 8 columns]"
      ]
     },
     "execution_count": 12,
     "metadata": {},
     "output_type": "execute_result"
    }
   ],
   "source": [
    "extract_features(X_train)\n",
    "extract_features(X_test)\n",
    "extract_features(validation)"
   ]
  },
  {
   "cell_type": "code",
   "execution_count": 13,
   "metadata": {},
   "outputs": [
    {
     "data": {
      "text/html": [
       "<div>\n",
       "<style scoped>\n",
       "    .dataframe tbody tr th:only-of-type {\n",
       "        vertical-align: middle;\n",
       "    }\n",
       "\n",
       "    .dataframe tbody tr th {\n",
       "        vertical-align: top;\n",
       "    }\n",
       "\n",
       "    .dataframe thead th {\n",
       "        text-align: right;\n",
       "    }\n",
       "</style>\n",
       "<table border=\"1\" class=\"dataframe\">\n",
       "  <thead>\n",
       "    <tr style=\"text-align: right;\">\n",
       "      <th></th>\n",
       "      <th>headline</th>\n",
       "      <th>Polarity</th>\n",
       "      <th>Subjectivity</th>\n",
       "      <th>char_count</th>\n",
       "      <th>word_count</th>\n",
       "      <th>word_density</th>\n",
       "      <th>punctuation_count</th>\n",
       "      <th>upper_case_word_count</th>\n",
       "    </tr>\n",
       "  </thead>\n",
       "  <tbody>\n",
       "    <tr>\n",
       "      <th>34059</th>\n",
       "      <td>authoritarian secretary of transportation decl...</td>\n",
       "      <td>0.142857</td>\n",
       "      <td>0.767857</td>\n",
       "      <td>106</td>\n",
       "      <td>15</td>\n",
       "      <td>6.625000</td>\n",
       "      <td>0</td>\n",
       "      <td>0</td>\n",
       "    </tr>\n",
       "    <tr>\n",
       "      <th>6098</th>\n",
       "      <td>study: marriages between perfectly matched cou...</td>\n",
       "      <td>0.333333</td>\n",
       "      <td>0.688889</td>\n",
       "      <td>88</td>\n",
       "      <td>13</td>\n",
       "      <td>6.285714</td>\n",
       "      <td>1</td>\n",
       "      <td>0</td>\n",
       "    </tr>\n",
       "    <tr>\n",
       "      <th>6252</th>\n",
       "      <td>employee wellness programs aren't so voluntary...</td>\n",
       "      <td>0.000000</td>\n",
       "      <td>0.000000</td>\n",
       "      <td>54</td>\n",
       "      <td>7</td>\n",
       "      <td>6.750000</td>\n",
       "      <td>1</td>\n",
       "      <td>0</td>\n",
       "    </tr>\n",
       "    <tr>\n",
       "      <th>20826</th>\n",
       "      <td>p is for p*ssy' is the alphabet book of your w...</td>\n",
       "      <td>-0.100000</td>\n",
       "      <td>0.400000</td>\n",
       "      <td>55</td>\n",
       "      <td>12</td>\n",
       "      <td>4.230769</td>\n",
       "      <td>2</td>\n",
       "      <td>0</td>\n",
       "    </tr>\n",
       "    <tr>\n",
       "      <th>24719</th>\n",
       "      <td>nothing going right for area surgeon today</td>\n",
       "      <td>0.285714</td>\n",
       "      <td>0.535714</td>\n",
       "      <td>42</td>\n",
       "      <td>7</td>\n",
       "      <td>5.250000</td>\n",
       "      <td>0</td>\n",
       "      <td>0</td>\n",
       "    </tr>\n",
       "  </tbody>\n",
       "</table>\n",
       "</div>"
      ],
      "text/plain": [
       "                                                headline  Polarity  \\\n",
       "34059  authoritarian secretary of transportation decl...  0.142857   \n",
       "6098   study: marriages between perfectly matched cou...  0.333333   \n",
       "6252   employee wellness programs aren't so voluntary...  0.000000   \n",
       "20826  p is for p*ssy' is the alphabet book of your w... -0.100000   \n",
       "24719         nothing going right for area surgeon today  0.285714   \n",
       "\n",
       "       Subjectivity  char_count  word_count  word_density  punctuation_count  \\\n",
       "34059      0.767857         106          15      6.625000                  0   \n",
       "6098       0.688889          88          13      6.285714                  1   \n",
       "6252       0.000000          54           7      6.750000                  1   \n",
       "20826      0.400000          55          12      4.230769                  2   \n",
       "24719      0.535714          42           7      5.250000                  0   \n",
       "\n",
       "       upper_case_word_count  \n",
       "34059                      0  \n",
       "6098                       0  \n",
       "6252                       0  \n",
       "20826                      0  \n",
       "24719                      0  "
      ]
     },
     "execution_count": 13,
     "metadata": {},
     "output_type": "execute_result"
    }
   ],
   "source": [
    "X_train.head()"
   ]
  },
  {
   "cell_type": "code",
   "execution_count": 14,
   "metadata": {
    "colab": {
     "base_uri": "https://localhost:8080/",
     "height": 306
    },
    "id": "h8hrxVQyeDC5",
    "outputId": "1a15c119-05c6-4d59-e4a3-dd1b335ad6e3"
   },
   "outputs": [
    {
     "data": {
      "text/html": [
       "<div>\n",
       "<style scoped>\n",
       "    .dataframe tbody tr th:only-of-type {\n",
       "        vertical-align: middle;\n",
       "    }\n",
       "\n",
       "    .dataframe tbody tr th {\n",
       "        vertical-align: top;\n",
       "    }\n",
       "\n",
       "    .dataframe thead th {\n",
       "        text-align: right;\n",
       "    }\n",
       "</style>\n",
       "<table border=\"1\" class=\"dataframe\">\n",
       "  <thead>\n",
       "    <tr style=\"text-align: right;\">\n",
       "      <th></th>\n",
       "      <th>headline</th>\n",
       "      <th>Polarity</th>\n",
       "      <th>Subjectivity</th>\n",
       "      <th>char_count</th>\n",
       "      <th>word_count</th>\n",
       "      <th>word_density</th>\n",
       "      <th>punctuation_count</th>\n",
       "      <th>upper_case_word_count</th>\n",
       "    </tr>\n",
       "  </thead>\n",
       "  <tbody>\n",
       "    <tr>\n",
       "      <th>12782</th>\n",
       "      <td>north dakota not heard from in 48 hours</td>\n",
       "      <td>0.00</td>\n",
       "      <td>0.0</td>\n",
       "      <td>39</td>\n",
       "      <td>8</td>\n",
       "      <td>4.333333</td>\n",
       "      <td>0</td>\n",
       "      <td>0</td>\n",
       "    </tr>\n",
       "    <tr>\n",
       "      <th>42915</th>\n",
       "      <td>report: it going to take way more than an inco...</td>\n",
       "      <td>0.25</td>\n",
       "      <td>0.3</td>\n",
       "      <td>106</td>\n",
       "      <td>19</td>\n",
       "      <td>5.300000</td>\n",
       "      <td>1</td>\n",
       "      <td>0</td>\n",
       "    </tr>\n",
       "    <tr>\n",
       "      <th>33043</th>\n",
       "      <td>states' rights rancher ryan bundy to run for n...</td>\n",
       "      <td>0.00</td>\n",
       "      <td>0.0</td>\n",
       "      <td>60</td>\n",
       "      <td>10</td>\n",
       "      <td>5.454545</td>\n",
       "      <td>1</td>\n",
       "      <td>0</td>\n",
       "    </tr>\n",
       "    <tr>\n",
       "      <th>1121</th>\n",
       "      <td>watching thousands march in his honor unlocks ...</td>\n",
       "      <td>0.00</td>\n",
       "      <td>0.0</td>\n",
       "      <td>85</td>\n",
       "      <td>13</td>\n",
       "      <td>6.071429</td>\n",
       "      <td>2</td>\n",
       "      <td>0</td>\n",
       "    </tr>\n",
       "    <tr>\n",
       "      <th>38782</th>\n",
       "      <td>during the debate, these two did the unthinkab...</td>\n",
       "      <td>-0.05</td>\n",
       "      <td>0.8</td>\n",
       "      <td>71</td>\n",
       "      <td>12</td>\n",
       "      <td>5.461538</td>\n",
       "      <td>1</td>\n",
       "      <td>0</td>\n",
       "    </tr>\n",
       "  </tbody>\n",
       "</table>\n",
       "</div>"
      ],
      "text/plain": [
       "                                                headline  Polarity  \\\n",
       "12782            north dakota not heard from in 48 hours      0.00   \n",
       "42915  report: it going to take way more than an inco...      0.25   \n",
       "33043  states' rights rancher ryan bundy to run for n...      0.00   \n",
       "1121   watching thousands march in his honor unlocks ...      0.00   \n",
       "38782  during the debate, these two did the unthinkab...     -0.05   \n",
       "\n",
       "       Subjectivity  char_count  word_count  word_density  punctuation_count  \\\n",
       "12782           0.0          39           8      4.333333                  0   \n",
       "42915           0.3         106          19      5.300000                  1   \n",
       "33043           0.0          60          10      5.454545                  1   \n",
       "1121            0.0          85          13      6.071429                  2   \n",
       "38782           0.8          71          12      5.461538                  1   \n",
       "\n",
       "       upper_case_word_count  \n",
       "12782                      0  \n",
       "42915                      0  \n",
       "33043                      0  \n",
       "1121                       0  \n",
       "38782                      0  "
      ]
     },
     "execution_count": 14,
     "metadata": {},
     "output_type": "execute_result"
    }
   ],
   "source": [
    "X_test.head()"
   ]
  },
  {
   "cell_type": "code",
   "execution_count": 15,
   "metadata": {},
   "outputs": [
    {
     "data": {
      "text/html": [
       "<div>\n",
       "<style scoped>\n",
       "    .dataframe tbody tr th:only-of-type {\n",
       "        vertical-align: middle;\n",
       "    }\n",
       "\n",
       "    .dataframe tbody tr th {\n",
       "        vertical-align: top;\n",
       "    }\n",
       "\n",
       "    .dataframe thead th {\n",
       "        text-align: right;\n",
       "    }\n",
       "</style>\n",
       "<table border=\"1\" class=\"dataframe\">\n",
       "  <thead>\n",
       "    <tr style=\"text-align: right;\">\n",
       "      <th></th>\n",
       "      <th>headline</th>\n",
       "      <th>Polarity</th>\n",
       "      <th>Subjectivity</th>\n",
       "      <th>char_count</th>\n",
       "      <th>word_count</th>\n",
       "      <th>word_density</th>\n",
       "      <th>punctuation_count</th>\n",
       "      <th>upper_case_word_count</th>\n",
       "    </tr>\n",
       "  </thead>\n",
       "  <tbody>\n",
       "    <tr>\n",
       "      <th>0</th>\n",
       "      <td>area stand-up comedian questions the deal with...</td>\n",
       "      <td>0.0</td>\n",
       "      <td>0.0</td>\n",
       "      <td>65</td>\n",
       "      <td>9</td>\n",
       "      <td>6.500000</td>\n",
       "      <td>2</td>\n",
       "      <td>0</td>\n",
       "    </tr>\n",
       "    <tr>\n",
       "      <th>1</th>\n",
       "      <td>dozens of glowing exit signs mercilessly taunt...</td>\n",
       "      <td>-0.7</td>\n",
       "      <td>1.0</td>\n",
       "      <td>65</td>\n",
       "      <td>9</td>\n",
       "      <td>6.500000</td>\n",
       "      <td>0</td>\n",
       "      <td>0</td>\n",
       "    </tr>\n",
       "    <tr>\n",
       "      <th>2</th>\n",
       "      <td>perfect response to heckler somewhere in prop ...</td>\n",
       "      <td>1.0</td>\n",
       "      <td>1.0</td>\n",
       "      <td>62</td>\n",
       "      <td>9</td>\n",
       "      <td>6.200000</td>\n",
       "      <td>1</td>\n",
       "      <td>0</td>\n",
       "    </tr>\n",
       "    <tr>\n",
       "      <th>3</th>\n",
       "      <td>gop prays for ossoff lossoff</td>\n",
       "      <td>0.0</td>\n",
       "      <td>0.0</td>\n",
       "      <td>28</td>\n",
       "      <td>5</td>\n",
       "      <td>4.666667</td>\n",
       "      <td>0</td>\n",
       "      <td>0</td>\n",
       "    </tr>\n",
       "    <tr>\n",
       "      <th>4</th>\n",
       "      <td>trevor noah says the scary truth about trump's...</td>\n",
       "      <td>0.0</td>\n",
       "      <td>0.8</td>\n",
       "      <td>65</td>\n",
       "      <td>11</td>\n",
       "      <td>5.416667</td>\n",
       "      <td>1</td>\n",
       "      <td>0</td>\n",
       "    </tr>\n",
       "  </tbody>\n",
       "</table>\n",
       "</div>"
      ],
      "text/plain": [
       "                                            headline  Polarity  Subjectivity  \\\n",
       "0  area stand-up comedian questions the deal with...       0.0           0.0   \n",
       "1  dozens of glowing exit signs mercilessly taunt...      -0.7           1.0   \n",
       "2  perfect response to heckler somewhere in prop ...       1.0           1.0   \n",
       "3                       gop prays for ossoff lossoff       0.0           0.0   \n",
       "4  trevor noah says the scary truth about trump's...       0.0           0.8   \n",
       "\n",
       "   char_count  word_count  word_density  punctuation_count  \\\n",
       "0          65           9      6.500000                  2   \n",
       "1          65           9      6.500000                  0   \n",
       "2          62           9      6.200000                  1   \n",
       "3          28           5      4.666667                  0   \n",
       "4          65          11      5.416667                  1   \n",
       "\n",
       "   upper_case_word_count  \n",
       "0                      0  \n",
       "1                      0  \n",
       "2                      0  \n",
       "3                      0  \n",
       "4                      0  "
      ]
     },
     "execution_count": 15,
     "metadata": {},
     "output_type": "execute_result"
    }
   ],
   "source": [
    "validation.head()"
   ]
  },
  {
   "cell_type": "markdown",
   "metadata": {
    "id": "Q03a2oZLOII1"
   },
   "source": [
    "## Implementng a logistic regression model"
   ]
  },
  {
   "cell_type": "code",
   "execution_count": 16,
   "metadata": {
    "id": "fILpQM-_JVJT"
   },
   "outputs": [],
   "source": [
    "from sklearn.linear_model import LogisticRegression\n",
    "from sklearn.metrics import classification_report,confusion_matrix,accuracy_score"
   ]
  },
  {
   "cell_type": "code",
   "execution_count": 17,
   "metadata": {
    "colab": {
     "base_uri": "https://localhost:8080/",
     "height": 264
    },
    "id": "O_zQKgMqA6FH",
    "outputId": "32910c78-4cdf-4707-fd87-32409f7f2799"
   },
   "outputs": [
    {
     "name": "stdout",
     "output_type": "stream",
     "text": [
      "              precision    recall  f1-score   support\n",
      "\n",
      "           0       0.62      0.72      0.67      5947\n",
      "           1       0.60      0.49      0.54      5119\n",
      "\n",
      "    accuracy                           0.61     11066\n",
      "   macro avg       0.61      0.60      0.60     11066\n",
      "weighted avg       0.61      0.61      0.61     11066\n",
      "\n"
     ]
    },
    {
     "data": {
      "text/html": [
       "<div>\n",
       "<style scoped>\n",
       "    .dataframe tbody tr th:only-of-type {\n",
       "        vertical-align: middle;\n",
       "    }\n",
       "\n",
       "    .dataframe tbody tr th {\n",
       "        vertical-align: top;\n",
       "    }\n",
       "\n",
       "    .dataframe thead th {\n",
       "        text-align: right;\n",
       "    }\n",
       "</style>\n",
       "<table border=\"1\" class=\"dataframe\">\n",
       "  <thead>\n",
       "    <tr style=\"text-align: right;\">\n",
       "      <th></th>\n",
       "      <th>0</th>\n",
       "      <th>1</th>\n",
       "    </tr>\n",
       "  </thead>\n",
       "  <tbody>\n",
       "    <tr>\n",
       "      <th>0</th>\n",
       "      <td>4294</td>\n",
       "      <td>1653</td>\n",
       "    </tr>\n",
       "    <tr>\n",
       "      <th>1</th>\n",
       "      <td>2629</td>\n",
       "      <td>2490</td>\n",
       "    </tr>\n",
       "  </tbody>\n",
       "</table>\n",
       "</div>"
      ],
      "text/plain": [
       "      0     1\n",
       "0  4294  1653\n",
       "1  2629  2490"
      ]
     },
     "execution_count": 17,
     "metadata": {},
     "output_type": "execute_result"
    }
   ],
   "source": [
    "lr = LogisticRegression(C=1, random_state=42, solver='liblinear')\n",
    "lr.fit(X_train.drop(['headline'], axis=1), y_train)\n",
    "predictions = lr.predict(X_test.drop(['headline'], axis=1))\n",
    "\n",
    "print(classification_report(y_test, predictions))\n",
    "pd.DataFrame(confusion_matrix(y_test, predictions))"
   ]
  },
  {
   "cell_type": "code",
   "execution_count": 18,
   "metadata": {},
   "outputs": [
    {
     "data": {
      "text/plain": [
       "0.6130489788541479"
      ]
     },
     "execution_count": 18,
     "metadata": {},
     "output_type": "execute_result"
    }
   ],
   "source": [
    "accuracy_score(y_test,predictions)"
   ]
  },
  {
   "cell_type": "markdown",
   "metadata": {},
   "source": [
    "The performance of this model is not very good, since it is only a little better than flipping a coin. so we are going to improve the feature engineering of our model by extracting variables with statistical methods, in the following part of the notebook."
   ]
  },
  {
   "cell_type": "markdown",
   "metadata": {
    "id": "ddCS0ky5vMaD"
   },
   "source": [
    "# Feature extraction based on TF-IDF"
   ]
  },
  {
   "cell_type": "markdown",
   "metadata": {
    "id": "SbizTBGwxeS2"
   },
   "source": [
    "## Preprocessing"
   ]
  },
  {
   "cell_type": "code",
   "execution_count": 19,
   "metadata": {
    "colab": {
     "base_uri": "https://localhost:8080/"
    },
    "id": "gBVXWgYEyFJ5",
    "outputId": "a09a81fb-dd8c-4c83-8a8a-924209ed7ce7"
   },
   "outputs": [
    {
     "name": "stdout",
     "output_type": "stream",
     "text": [
      "Requirement already satisfied: textsearch in /Users/linatobon/opt/anaconda3/lib/python3.8/site-packages (0.0.21)\n",
      "Requirement already satisfied: anyascii in /Users/linatobon/opt/anaconda3/lib/python3.8/site-packages (from textsearch) (0.3.0)\n",
      "Requirement already satisfied: pyahocorasick in /Users/linatobon/opt/anaconda3/lib/python3.8/site-packages (from textsearch) (1.4.2)\n",
      "Requirement already satisfied: contractions in /Users/linatobon/opt/anaconda3/lib/python3.8/site-packages (0.0.55)\n",
      "Requirement already satisfied: textsearch>=0.0.21 in /Users/linatobon/opt/anaconda3/lib/python3.8/site-packages (from contractions) (0.0.21)\n",
      "Requirement already satisfied: anyascii in /Users/linatobon/opt/anaconda3/lib/python3.8/site-packages (from textsearch>=0.0.21->contractions) (0.3.0)\n",
      "Requirement already satisfied: pyahocorasick in /Users/linatobon/opt/anaconda3/lib/python3.8/site-packages (from textsearch>=0.0.21->contractions) (1.4.2)\n",
      "Requirement already satisfied: tqdm in /Users/linatobon/opt/anaconda3/lib/python3.8/site-packages (4.59.0)\n"
     ]
    },
    {
     "name": "stderr",
     "output_type": "stream",
     "text": [
      "[nltk_data] Downloading package punkt to /Users/linatobon/nltk_data...\n",
      "[nltk_data]   Package punkt is already up-to-date!\n",
      "[nltk_data] Downloading package stopwords to\n",
      "[nltk_data]     /Users/linatobon/nltk_data...\n",
      "[nltk_data]   Package stopwords is already up-to-date!\n"
     ]
    }
   ],
   "source": [
    "# Installing dependencies\n",
    "!pip install textsearch\n",
    "!pip install contractions\n",
    "!pip install tqdm\n",
    "import nltk\n",
    "nltk.download('punkt')\n",
    "nltk.download('stopwords')\n",
    "import contractions\n",
    "import re"
   ]
  },
  {
   "cell_type": "code",
   "execution_count": 20,
   "metadata": {
    "id": "68f6Moq0Gk79"
   },
   "outputs": [],
   "source": [
    "# remove some stopwords to capture negation in n-grams if possible\n",
    "stop_words = nltk.corpus.stopwords.words('english')\n",
    "stop_words.remove('no')\n",
    "stop_words.remove('not')\n",
    "stop_words.remove('but')\n",
    "\n",
    "# load up a simple porter stemmer - nothing fancy\n",
    "ps = nltk.porter.PorterStemmer()\n",
    "\n",
    "def simple_text_preprocessor(document): \n",
    "    # lower case\n",
    "    document = str(document).lower()\n",
    "    \n",
    "    # expand contractions\n",
    "    document = contractions.fix(document)\n",
    "    \n",
    "    # remove unnecessary characters\n",
    "    document = re.sub(r'[^a-zA-Z]',r' ', document)\n",
    "    document = re.sub(r'nbsp', r'', document)\n",
    "    document = re.sub(' +', ' ', document)\n",
    "    \n",
    "    # simple porter stemming\n",
    "    document = ' '.join([ps.stem(word) for word in document.split()])\n",
    "    \n",
    "    # stopwords removal\n",
    "    document = ' '.join([word for word in document.split() if word not in stop_words])\n",
    "    \n",
    "    return document\n",
    "\n",
    "stp = np.vectorize(simple_text_preprocessor)"
   ]
  },
  {
   "cell_type": "code",
   "execution_count": 21,
   "metadata": {
    "colab": {
     "base_uri": "https://localhost:8080/",
     "height": 564
    },
    "id": "A8G84fD1EiZn",
    "outputId": "d42a650d-81d6-4570-d3ec-85d8e72af116"
   },
   "outputs": [],
   "source": [
    "# applying the prepocessor function to the train ,test and validation datasets\n",
    "X_train['Clean'] = stp(X_train['headline'].values)\n",
    "X_test['Clean'] = stp(X_test['headline'].values)\n",
    "validation['Clean'] = stp(validation['headline'].values)"
   ]
  },
  {
   "cell_type": "markdown",
   "metadata": {},
   "source": [
    "## TF-IDF"
   ]
  },
  {
   "cell_type": "code",
   "execution_count": 22,
   "metadata": {},
   "outputs": [],
   "source": [
    "from sklearn.feature_extraction.text import TfidfVectorizer"
   ]
  },
  {
   "cell_type": "code",
   "execution_count": 23,
   "metadata": {
    "id": "UrYVzM5DKZUZ"
   },
   "outputs": [
    {
     "name": "stderr",
     "output_type": "stream",
     "text": [
      "/Users/linatobon/opt/anaconda3/envs/NLP/lib/python3.8/site-packages/sklearn/utils/deprecation.py:87: FutureWarning: Function get_feature_names is deprecated; get_feature_names is deprecated in 1.0 and will be removed in 1.2. Please use get_feature_names_out instead.\n",
      "  warnings.warn(msg, category=FutureWarning)\n"
     ]
    }
   ],
   "source": [
    "#fitting TfidfVectorizer\n",
    "tv = TfidfVectorizer(min_df=0., max_df=1., use_idf=True)\n",
    "tv_matrix = tv.fit_transform(X_train['Clean'])\n",
    "tv_matrix = tv_matrix.toarray()\n",
    "\n",
    "vocab = tv.get_feature_names()\n",
    "tfidf_train = pd.DataFrame(np.round(tv_matrix, 2), columns=vocab)"
   ]
  },
  {
   "cell_type": "code",
   "execution_count": 24,
   "metadata": {
    "colab": {
     "base_uri": "https://localhost:8080/",
     "height": 253
    },
    "id": "nWvPSscKLIBb",
    "outputId": "99543f9d-e50a-4db5-e1e8-c87d11b5f328"
   },
   "outputs": [],
   "source": [
    "# extracting features for the test dataset\n",
    "\n",
    "tv_matrix = tv.transform(X_test['Clean'])\n",
    "tv_matrix = tv_matrix.toarray()\n",
    "vocab = tv.get_feature_names()\n",
    "tfidf_test = pd.DataFrame(np.round(tv_matrix, 2), columns=vocab)\n",
    "\n",
    "# extracting features for the validation dataset\n",
    "tv_matrix = tv.transform(validation['Clean'])\n",
    "tv_matrix = tv_matrix.toarray()\n",
    "vocab = tv.get_feature_names()\n",
    "tfidf_valid = pd.DataFrame(np.round(tv_matrix, 2), columns=vocab)"
   ]
  },
  {
   "cell_type": "code",
   "execution_count": 25,
   "metadata": {},
   "outputs": [],
   "source": [
    "# keeping just the predictors in both training and test datasets\n",
    "X_train_metadata = X_train.drop(['headline', 'Clean'], axis=1).reset_index(drop=True)\n",
    "X_test_metadata = X_test.drop(['headline', 'Clean'], axis=1).reset_index(drop=True)\n",
    "val_metadata = validation.drop(['headline', 'Clean'], axis=1).reset_index(drop=True)"
   ]
  },
  {
   "cell_type": "code",
   "execution_count": 26,
   "metadata": {},
   "outputs": [
    {
     "data": {
      "text/html": [
       "<div>\n",
       "<style scoped>\n",
       "    .dataframe tbody tr th:only-of-type {\n",
       "        vertical-align: middle;\n",
       "    }\n",
       "\n",
       "    .dataframe tbody tr th {\n",
       "        vertical-align: top;\n",
       "    }\n",
       "\n",
       "    .dataframe thead th {\n",
       "        text-align: right;\n",
       "    }\n",
       "</style>\n",
       "<table border=\"1\" class=\"dataframe\">\n",
       "  <thead>\n",
       "    <tr style=\"text-align: right;\">\n",
       "      <th></th>\n",
       "      <th>Polarity</th>\n",
       "      <th>Subjectivity</th>\n",
       "      <th>char_count</th>\n",
       "      <th>word_count</th>\n",
       "      <th>word_density</th>\n",
       "      <th>punctuation_count</th>\n",
       "      <th>upper_case_word_count</th>\n",
       "    </tr>\n",
       "  </thead>\n",
       "  <tbody>\n",
       "    <tr>\n",
       "      <th>0</th>\n",
       "      <td>0.0</td>\n",
       "      <td>0.0</td>\n",
       "      <td>65</td>\n",
       "      <td>9</td>\n",
       "      <td>6.500000</td>\n",
       "      <td>2</td>\n",
       "      <td>0</td>\n",
       "    </tr>\n",
       "    <tr>\n",
       "      <th>1</th>\n",
       "      <td>-0.7</td>\n",
       "      <td>1.0</td>\n",
       "      <td>65</td>\n",
       "      <td>9</td>\n",
       "      <td>6.500000</td>\n",
       "      <td>0</td>\n",
       "      <td>0</td>\n",
       "    </tr>\n",
       "    <tr>\n",
       "      <th>2</th>\n",
       "      <td>1.0</td>\n",
       "      <td>1.0</td>\n",
       "      <td>62</td>\n",
       "      <td>9</td>\n",
       "      <td>6.200000</td>\n",
       "      <td>1</td>\n",
       "      <td>0</td>\n",
       "    </tr>\n",
       "    <tr>\n",
       "      <th>3</th>\n",
       "      <td>0.0</td>\n",
       "      <td>0.0</td>\n",
       "      <td>28</td>\n",
       "      <td>5</td>\n",
       "      <td>4.666667</td>\n",
       "      <td>0</td>\n",
       "      <td>0</td>\n",
       "    </tr>\n",
       "    <tr>\n",
       "      <th>4</th>\n",
       "      <td>0.0</td>\n",
       "      <td>0.8</td>\n",
       "      <td>65</td>\n",
       "      <td>11</td>\n",
       "      <td>5.416667</td>\n",
       "      <td>1</td>\n",
       "      <td>0</td>\n",
       "    </tr>\n",
       "  </tbody>\n",
       "</table>\n",
       "</div>"
      ],
      "text/plain": [
       "   Polarity  Subjectivity  char_count  word_count  word_density  \\\n",
       "0       0.0           0.0          65           9      6.500000   \n",
       "1      -0.7           1.0          65           9      6.500000   \n",
       "2       1.0           1.0          62           9      6.200000   \n",
       "3       0.0           0.0          28           5      4.666667   \n",
       "4       0.0           0.8          65          11      5.416667   \n",
       "\n",
       "   punctuation_count  upper_case_word_count  \n",
       "0                  2                      0  \n",
       "1                  0                      0  \n",
       "2                  1                      0  \n",
       "3                  0                      0  \n",
       "4                  1                      0  "
      ]
     },
     "execution_count": 26,
     "metadata": {},
     "output_type": "execute_result"
    }
   ],
   "source": [
    "val_metadata.head()"
   ]
  },
  {
   "cell_type": "code",
   "execution_count": 27,
   "metadata": {},
   "outputs": [],
   "source": [
    "X_train_comb = pd.concat([X_train_metadata, tfidf_train], axis=1)\n",
    "X_test_comb = pd.concat([X_test_metadata, tfidf_test], axis=1)\n",
    "X_validation = pd.concat([val_metadata, tfidf_valid], axis=1)"
   ]
  },
  {
   "cell_type": "markdown",
   "metadata": {},
   "source": [
    "## Modeling"
   ]
  },
  {
   "cell_type": "markdown",
   "metadata": {},
   "source": [
    "### logistic regression"
   ]
  },
  {
   "cell_type": "code",
   "execution_count": 28,
   "metadata": {},
   "outputs": [
    {
     "name": "stdout",
     "output_type": "stream",
     "text": [
      "              precision    recall  f1-score   support\n",
      "\n",
      "           0       0.84      0.88      0.86      5947\n",
      "           1       0.86      0.81      0.83      5119\n",
      "\n",
      "    accuracy                           0.85     11066\n",
      "   macro avg       0.85      0.85      0.85     11066\n",
      "weighted avg       0.85      0.85      0.85     11066\n",
      "\n"
     ]
    },
    {
     "data": {
      "text/html": [
       "<div>\n",
       "<style scoped>\n",
       "    .dataframe tbody tr th:only-of-type {\n",
       "        vertical-align: middle;\n",
       "    }\n",
       "\n",
       "    .dataframe tbody tr th {\n",
       "        vertical-align: top;\n",
       "    }\n",
       "\n",
       "    .dataframe thead th {\n",
       "        text-align: right;\n",
       "    }\n",
       "</style>\n",
       "<table border=\"1\" class=\"dataframe\">\n",
       "  <thead>\n",
       "    <tr style=\"text-align: right;\">\n",
       "      <th></th>\n",
       "      <th>0</th>\n",
       "      <th>1</th>\n",
       "    </tr>\n",
       "  </thead>\n",
       "  <tbody>\n",
       "    <tr>\n",
       "      <th>0</th>\n",
       "      <td>5260</td>\n",
       "      <td>687</td>\n",
       "    </tr>\n",
       "    <tr>\n",
       "      <th>1</th>\n",
       "      <td>982</td>\n",
       "      <td>4137</td>\n",
       "    </tr>\n",
       "  </tbody>\n",
       "</table>\n",
       "</div>"
      ],
      "text/plain": [
       "      0     1\n",
       "0  5260   687\n",
       "1   982  4137"
      ]
     },
     "execution_count": 28,
     "metadata": {},
     "output_type": "execute_result"
    }
   ],
   "source": [
    "lr = LogisticRegression(C=1, random_state=42, solver='liblinear')\n",
    "lr.fit(X_train_comb, y_train)\n",
    "predictions_lr = lr.predict(X_test_comb)\n",
    "\n",
    "print(classification_report(y_test, predictions_lr))\n",
    "pd.DataFrame(confusion_matrix(y_test, predictions_lr))"
   ]
  },
  {
   "cell_type": "code",
   "execution_count": 29,
   "metadata": {},
   "outputs": [],
   "source": [
    "accur_lr_tfidf = round(accuracy_score(y_test,predictions_lr),2)"
   ]
  },
  {
   "cell_type": "markdown",
   "metadata": {},
   "source": [
    "### Linear SVC"
   ]
  },
  {
   "cell_type": "code",
   "execution_count": 30,
   "metadata": {},
   "outputs": [],
   "source": [
    "from sklearn.svm import LinearSVC"
   ]
  },
  {
   "cell_type": "code",
   "execution_count": 31,
   "metadata": {},
   "outputs": [
    {
     "name": "stderr",
     "output_type": "stream",
     "text": [
      "/Users/linatobon/opt/anaconda3/envs/NLP/lib/python3.8/site-packages/sklearn/svm/_base.py:1206: ConvergenceWarning: Liblinear failed to converge, increase the number of iterations.\n",
      "  warnings.warn(\n"
     ]
    },
    {
     "name": "stdout",
     "output_type": "stream",
     "text": [
      "              precision    recall  f1-score   support\n",
      "\n",
      "           0       0.59      1.00      0.74      5947\n",
      "           1       0.99      0.18      0.31      5119\n",
      "\n",
      "    accuracy                           0.62     11066\n",
      "   macro avg       0.79      0.59      0.52     11066\n",
      "weighted avg       0.77      0.62      0.54     11066\n",
      "\n"
     ]
    },
    {
     "data": {
      "text/html": [
       "<div>\n",
       "<style scoped>\n",
       "    .dataframe tbody tr th:only-of-type {\n",
       "        vertical-align: middle;\n",
       "    }\n",
       "\n",
       "    .dataframe tbody tr th {\n",
       "        vertical-align: top;\n",
       "    }\n",
       "\n",
       "    .dataframe thead th {\n",
       "        text-align: right;\n",
       "    }\n",
       "</style>\n",
       "<table border=\"1\" class=\"dataframe\">\n",
       "  <thead>\n",
       "    <tr style=\"text-align: right;\">\n",
       "      <th></th>\n",
       "      <th>0</th>\n",
       "      <th>1</th>\n",
       "    </tr>\n",
       "  </thead>\n",
       "  <tbody>\n",
       "    <tr>\n",
       "      <th>0</th>\n",
       "      <td>5933</td>\n",
       "      <td>14</td>\n",
       "    </tr>\n",
       "    <tr>\n",
       "      <th>1</th>\n",
       "      <td>4184</td>\n",
       "      <td>935</td>\n",
       "    </tr>\n",
       "  </tbody>\n",
       "</table>\n",
       "</div>"
      ],
      "text/plain": [
       "      0    1\n",
       "0  5933   14\n",
       "1  4184  935"
      ]
     },
     "execution_count": 31,
     "metadata": {},
     "output_type": "execute_result"
    }
   ],
   "source": [
    "# Using linear support vector classifier\n",
    "lsvc = LinearSVC()\n",
    "# training the model\n",
    "lsvc.fit(X_train_comb, y_train)\n",
    "lsvc_predictions = lsvc.predict(X_test_comb)\n",
    "print(classification_report(y_test, lsvc_predictions))\n",
    "pd.DataFrame(confusion_matrix(y_test, lsvc_predictions))"
   ]
  },
  {
   "cell_type": "code",
   "execution_count": 32,
   "metadata": {},
   "outputs": [],
   "source": [
    "accur_svc_tfidf = round(accuracy_score(y_test,lsvc_predictions),2)"
   ]
  },
  {
   "cell_type": "markdown",
   "metadata": {},
   "source": [
    "### Decision Tree"
   ]
  },
  {
   "cell_type": "code",
   "execution_count": 33,
   "metadata": {},
   "outputs": [],
   "source": [
    "from sklearn.tree import DecisionTreeClassifier"
   ]
  },
  {
   "cell_type": "code",
   "execution_count": 34,
   "metadata": {},
   "outputs": [
    {
     "name": "stdout",
     "output_type": "stream",
     "text": [
      "              precision    recall  f1-score   support\n",
      "\n",
      "           0       0.87      0.90      0.88      5947\n",
      "           1       0.88      0.84      0.86      5119\n",
      "\n",
      "    accuracy                           0.87     11066\n",
      "   macro avg       0.87      0.87      0.87     11066\n",
      "weighted avg       0.87      0.87      0.87     11066\n",
      "\n"
     ]
    },
    {
     "data": {
      "text/html": [
       "<div>\n",
       "<style scoped>\n",
       "    .dataframe tbody tr th:only-of-type {\n",
       "        vertical-align: middle;\n",
       "    }\n",
       "\n",
       "    .dataframe tbody tr th {\n",
       "        vertical-align: top;\n",
       "    }\n",
       "\n",
       "    .dataframe thead th {\n",
       "        text-align: right;\n",
       "    }\n",
       "</style>\n",
       "<table border=\"1\" class=\"dataframe\">\n",
       "  <thead>\n",
       "    <tr style=\"text-align: right;\">\n",
       "      <th></th>\n",
       "      <th>0</th>\n",
       "      <th>1</th>\n",
       "    </tr>\n",
       "  </thead>\n",
       "  <tbody>\n",
       "    <tr>\n",
       "      <th>0</th>\n",
       "      <td>5337</td>\n",
       "      <td>610</td>\n",
       "    </tr>\n",
       "    <tr>\n",
       "      <th>1</th>\n",
       "      <td>799</td>\n",
       "      <td>4320</td>\n",
       "    </tr>\n",
       "  </tbody>\n",
       "</table>\n",
       "</div>"
      ],
      "text/plain": [
       "      0     1\n",
       "0  5337   610\n",
       "1   799  4320"
      ]
     },
     "execution_count": 34,
     "metadata": {},
     "output_type": "execute_result"
    }
   ],
   "source": [
    "clf = DecisionTreeClassifier(random_state=42)\n",
    "clf.fit(X_train_comb, y_train)\n",
    "tree_tfidf_predictions = clf.predict(X_test_comb)\n",
    "print(classification_report(y_test, tree_tfidf_predictions))\n",
    "pd.DataFrame(confusion_matrix(y_test, tree_tfidf_predictions))"
   ]
  },
  {
   "cell_type": "code",
   "execution_count": 35,
   "metadata": {},
   "outputs": [],
   "source": [
    "accur_tree_tfidf = round(accuracy_score(y_test,tree_tfidf_predictions),2)"
   ]
  },
  {
   "cell_type": "markdown",
   "metadata": {},
   "source": [
    "up to this point we have trained two different models, but we have not had significant increases in model performance. so we will try to extract features with the TF method."
   ]
  },
  {
   "cell_type": "markdown",
   "metadata": {},
   "source": [
    "## Extracting features with TF"
   ]
  },
  {
   "cell_type": "code",
   "execution_count": 36,
   "metadata": {
    "id": "3uT-soocpMG2"
   },
   "outputs": [
    {
     "name": "stderr",
     "output_type": "stream",
     "text": [
      "/Users/linatobon/opt/anaconda3/envs/NLP/lib/python3.8/site-packages/sklearn/utils/deprecation.py:87: FutureWarning: Function get_feature_names is deprecated; get_feature_names is deprecated in 1.0 and will be removed in 1.2. Please use get_feature_names_out instead.\n",
      "  warnings.warn(msg, category=FutureWarning)\n"
     ]
    },
    {
     "data": {
      "text/html": [
       "<div>\n",
       "<style scoped>\n",
       "    .dataframe tbody tr th:only-of-type {\n",
       "        vertical-align: middle;\n",
       "    }\n",
       "\n",
       "    .dataframe tbody tr th {\n",
       "        vertical-align: top;\n",
       "    }\n",
       "\n",
       "    .dataframe thead th {\n",
       "        text-align: right;\n",
       "    }\n",
       "</style>\n",
       "<table border=\"1\" class=\"dataframe\">\n",
       "  <thead>\n",
       "    <tr style=\"text-align: right;\">\n",
       "      <th></th>\n",
       "      <th>aaa</th>\n",
       "      <th>aaron</th>\n",
       "      <th>aarp</th>\n",
       "      <th>ab</th>\n",
       "      <th>abandon</th>\n",
       "      <th>abaya</th>\n",
       "      <th>abba</th>\n",
       "      <th>abbey</th>\n",
       "      <th>abbi</th>\n",
       "      <th>abc</th>\n",
       "      <th>...</th>\n",
       "      <th>zoo</th>\n",
       "      <th>zookeep</th>\n",
       "      <th>zooland</th>\n",
       "      <th>zoologist</th>\n",
       "      <th>zoom</th>\n",
       "      <th>zoroastrian</th>\n",
       "      <th>zsa</th>\n",
       "      <th>zucker</th>\n",
       "      <th>zuckerberg</th>\n",
       "      <th>zz</th>\n",
       "    </tr>\n",
       "  </thead>\n",
       "  <tbody>\n",
       "    <tr>\n",
       "      <th>0</th>\n",
       "      <td>0</td>\n",
       "      <td>0</td>\n",
       "      <td>0</td>\n",
       "      <td>0</td>\n",
       "      <td>0</td>\n",
       "      <td>0</td>\n",
       "      <td>0</td>\n",
       "      <td>0</td>\n",
       "      <td>0</td>\n",
       "      <td>0</td>\n",
       "      <td>...</td>\n",
       "      <td>0</td>\n",
       "      <td>0</td>\n",
       "      <td>0</td>\n",
       "      <td>0</td>\n",
       "      <td>0</td>\n",
       "      <td>0</td>\n",
       "      <td>0</td>\n",
       "      <td>0</td>\n",
       "      <td>0</td>\n",
       "      <td>0</td>\n",
       "    </tr>\n",
       "    <tr>\n",
       "      <th>1</th>\n",
       "      <td>0</td>\n",
       "      <td>0</td>\n",
       "      <td>0</td>\n",
       "      <td>0</td>\n",
       "      <td>0</td>\n",
       "      <td>0</td>\n",
       "      <td>0</td>\n",
       "      <td>0</td>\n",
       "      <td>0</td>\n",
       "      <td>0</td>\n",
       "      <td>...</td>\n",
       "      <td>0</td>\n",
       "      <td>0</td>\n",
       "      <td>0</td>\n",
       "      <td>0</td>\n",
       "      <td>0</td>\n",
       "      <td>0</td>\n",
       "      <td>0</td>\n",
       "      <td>0</td>\n",
       "      <td>0</td>\n",
       "      <td>0</td>\n",
       "    </tr>\n",
       "    <tr>\n",
       "      <th>2</th>\n",
       "      <td>0</td>\n",
       "      <td>0</td>\n",
       "      <td>0</td>\n",
       "      <td>0</td>\n",
       "      <td>0</td>\n",
       "      <td>0</td>\n",
       "      <td>0</td>\n",
       "      <td>0</td>\n",
       "      <td>0</td>\n",
       "      <td>0</td>\n",
       "      <td>...</td>\n",
       "      <td>0</td>\n",
       "      <td>0</td>\n",
       "      <td>0</td>\n",
       "      <td>0</td>\n",
       "      <td>0</td>\n",
       "      <td>0</td>\n",
       "      <td>0</td>\n",
       "      <td>0</td>\n",
       "      <td>0</td>\n",
       "      <td>0</td>\n",
       "    </tr>\n",
       "    <tr>\n",
       "      <th>3</th>\n",
       "      <td>0</td>\n",
       "      <td>0</td>\n",
       "      <td>0</td>\n",
       "      <td>0</td>\n",
       "      <td>0</td>\n",
       "      <td>0</td>\n",
       "      <td>0</td>\n",
       "      <td>0</td>\n",
       "      <td>0</td>\n",
       "      <td>0</td>\n",
       "      <td>...</td>\n",
       "      <td>0</td>\n",
       "      <td>0</td>\n",
       "      <td>0</td>\n",
       "      <td>0</td>\n",
       "      <td>0</td>\n",
       "      <td>0</td>\n",
       "      <td>0</td>\n",
       "      <td>0</td>\n",
       "      <td>0</td>\n",
       "      <td>0</td>\n",
       "    </tr>\n",
       "    <tr>\n",
       "      <th>4</th>\n",
       "      <td>0</td>\n",
       "      <td>0</td>\n",
       "      <td>0</td>\n",
       "      <td>0</td>\n",
       "      <td>0</td>\n",
       "      <td>0</td>\n",
       "      <td>0</td>\n",
       "      <td>0</td>\n",
       "      <td>0</td>\n",
       "      <td>0</td>\n",
       "      <td>...</td>\n",
       "      <td>0</td>\n",
       "      <td>0</td>\n",
       "      <td>0</td>\n",
       "      <td>0</td>\n",
       "      <td>0</td>\n",
       "      <td>0</td>\n",
       "      <td>0</td>\n",
       "      <td>0</td>\n",
       "      <td>0</td>\n",
       "      <td>0</td>\n",
       "    </tr>\n",
       "  </tbody>\n",
       "</table>\n",
       "<p>5 rows × 16183 columns</p>\n",
       "</div>"
      ],
      "text/plain": [
       "   aaa  aaron  aarp  ab  abandon  abaya  abba  abbey  abbi  abc  ...  zoo  \\\n",
       "0    0      0     0   0        0      0     0      0     0    0  ...    0   \n",
       "1    0      0     0   0        0      0     0      0     0    0  ...    0   \n",
       "2    0      0     0   0        0      0     0      0     0    0  ...    0   \n",
       "3    0      0     0   0        0      0     0      0     0    0  ...    0   \n",
       "4    0      0     0   0        0      0     0      0     0    0  ...    0   \n",
       "\n",
       "   zookeep  zooland  zoologist  zoom  zoroastrian  zsa  zucker  zuckerberg  zz  \n",
       "0        0        0          0     0            0    0       0           0   0  \n",
       "1        0        0          0     0            0    0       0           0   0  \n",
       "2        0        0          0     0            0    0       0           0   0  \n",
       "3        0        0          0     0            0    0       0           0   0  \n",
       "4        0        0          0     0            0    0       0           0   0  \n",
       "\n",
       "[5 rows x 16183 columns]"
      ]
     },
     "execution_count": 36,
     "metadata": {},
     "output_type": "execute_result"
    }
   ],
   "source": [
    "from sklearn.feature_extraction.text import CountVectorizer\n",
    "\n",
    "cv = CountVectorizer(min_df=0.0, max_df=1.0, ngram_range=(1, 1))\n",
    "X_traincv = cv.fit_transform(X_train['Clean']).toarray()\n",
    "X_traincv = pd.DataFrame(X_traincv, columns=cv.get_feature_names())\n",
    "\n",
    "X_testcv = cv.transform(X_test['Clean']).toarray()\n",
    "X_testcv = pd.DataFrame(X_testcv, columns=cv.get_feature_names())\n",
    "\n",
    "X_valcv = cv.transform(validation['Clean']).toarray()\n",
    "X_valcv = pd.DataFrame(X_valcv, columns=cv.get_feature_names())\n",
    "X_valcv.head()"
   ]
  },
  {
   "cell_type": "code",
   "execution_count": 37,
   "metadata": {
    "id": "PlqnT2IIphsL"
   },
   "outputs": [
    {
     "data": {
      "text/html": [
       "<div>\n",
       "<style scoped>\n",
       "    .dataframe tbody tr th:only-of-type {\n",
       "        vertical-align: middle;\n",
       "    }\n",
       "\n",
       "    .dataframe tbody tr th {\n",
       "        vertical-align: top;\n",
       "    }\n",
       "\n",
       "    .dataframe thead th {\n",
       "        text-align: right;\n",
       "    }\n",
       "</style>\n",
       "<table border=\"1\" class=\"dataframe\">\n",
       "  <thead>\n",
       "    <tr style=\"text-align: right;\">\n",
       "      <th></th>\n",
       "      <th>Polarity</th>\n",
       "      <th>Subjectivity</th>\n",
       "      <th>char_count</th>\n",
       "      <th>word_count</th>\n",
       "      <th>word_density</th>\n",
       "      <th>punctuation_count</th>\n",
       "      <th>upper_case_word_count</th>\n",
       "      <th>aaa</th>\n",
       "      <th>aaron</th>\n",
       "      <th>aarp</th>\n",
       "      <th>...</th>\n",
       "      <th>zoo</th>\n",
       "      <th>zookeep</th>\n",
       "      <th>zooland</th>\n",
       "      <th>zoologist</th>\n",
       "      <th>zoom</th>\n",
       "      <th>zoroastrian</th>\n",
       "      <th>zsa</th>\n",
       "      <th>zucker</th>\n",
       "      <th>zuckerberg</th>\n",
       "      <th>zz</th>\n",
       "    </tr>\n",
       "  </thead>\n",
       "  <tbody>\n",
       "    <tr>\n",
       "      <th>0</th>\n",
       "      <td>0.0</td>\n",
       "      <td>0.0</td>\n",
       "      <td>65</td>\n",
       "      <td>9</td>\n",
       "      <td>6.500000</td>\n",
       "      <td>2</td>\n",
       "      <td>0</td>\n",
       "      <td>0</td>\n",
       "      <td>0</td>\n",
       "      <td>0</td>\n",
       "      <td>...</td>\n",
       "      <td>0</td>\n",
       "      <td>0</td>\n",
       "      <td>0</td>\n",
       "      <td>0</td>\n",
       "      <td>0</td>\n",
       "      <td>0</td>\n",
       "      <td>0</td>\n",
       "      <td>0</td>\n",
       "      <td>0</td>\n",
       "      <td>0</td>\n",
       "    </tr>\n",
       "    <tr>\n",
       "      <th>1</th>\n",
       "      <td>-0.7</td>\n",
       "      <td>1.0</td>\n",
       "      <td>65</td>\n",
       "      <td>9</td>\n",
       "      <td>6.500000</td>\n",
       "      <td>0</td>\n",
       "      <td>0</td>\n",
       "      <td>0</td>\n",
       "      <td>0</td>\n",
       "      <td>0</td>\n",
       "      <td>...</td>\n",
       "      <td>0</td>\n",
       "      <td>0</td>\n",
       "      <td>0</td>\n",
       "      <td>0</td>\n",
       "      <td>0</td>\n",
       "      <td>0</td>\n",
       "      <td>0</td>\n",
       "      <td>0</td>\n",
       "      <td>0</td>\n",
       "      <td>0</td>\n",
       "    </tr>\n",
       "    <tr>\n",
       "      <th>2</th>\n",
       "      <td>1.0</td>\n",
       "      <td>1.0</td>\n",
       "      <td>62</td>\n",
       "      <td>9</td>\n",
       "      <td>6.200000</td>\n",
       "      <td>1</td>\n",
       "      <td>0</td>\n",
       "      <td>0</td>\n",
       "      <td>0</td>\n",
       "      <td>0</td>\n",
       "      <td>...</td>\n",
       "      <td>0</td>\n",
       "      <td>0</td>\n",
       "      <td>0</td>\n",
       "      <td>0</td>\n",
       "      <td>0</td>\n",
       "      <td>0</td>\n",
       "      <td>0</td>\n",
       "      <td>0</td>\n",
       "      <td>0</td>\n",
       "      <td>0</td>\n",
       "    </tr>\n",
       "    <tr>\n",
       "      <th>3</th>\n",
       "      <td>0.0</td>\n",
       "      <td>0.0</td>\n",
       "      <td>28</td>\n",
       "      <td>5</td>\n",
       "      <td>4.666667</td>\n",
       "      <td>0</td>\n",
       "      <td>0</td>\n",
       "      <td>0</td>\n",
       "      <td>0</td>\n",
       "      <td>0</td>\n",
       "      <td>...</td>\n",
       "      <td>0</td>\n",
       "      <td>0</td>\n",
       "      <td>0</td>\n",
       "      <td>0</td>\n",
       "      <td>0</td>\n",
       "      <td>0</td>\n",
       "      <td>0</td>\n",
       "      <td>0</td>\n",
       "      <td>0</td>\n",
       "      <td>0</td>\n",
       "    </tr>\n",
       "    <tr>\n",
       "      <th>4</th>\n",
       "      <td>0.0</td>\n",
       "      <td>0.8</td>\n",
       "      <td>65</td>\n",
       "      <td>11</td>\n",
       "      <td>5.416667</td>\n",
       "      <td>1</td>\n",
       "      <td>0</td>\n",
       "      <td>0</td>\n",
       "      <td>0</td>\n",
       "      <td>0</td>\n",
       "      <td>...</td>\n",
       "      <td>0</td>\n",
       "      <td>0</td>\n",
       "      <td>0</td>\n",
       "      <td>0</td>\n",
       "      <td>0</td>\n",
       "      <td>0</td>\n",
       "      <td>0</td>\n",
       "      <td>0</td>\n",
       "      <td>0</td>\n",
       "      <td>0</td>\n",
       "    </tr>\n",
       "  </tbody>\n",
       "</table>\n",
       "<p>5 rows × 16190 columns</p>\n",
       "</div>"
      ],
      "text/plain": [
       "   Polarity  Subjectivity  char_count  word_count  word_density  \\\n",
       "0       0.0           0.0          65           9      6.500000   \n",
       "1      -0.7           1.0          65           9      6.500000   \n",
       "2       1.0           1.0          62           9      6.200000   \n",
       "3       0.0           0.0          28           5      4.666667   \n",
       "4       0.0           0.8          65          11      5.416667   \n",
       "\n",
       "   punctuation_count  upper_case_word_count  aaa  aaron  aarp  ...  zoo  \\\n",
       "0                  2                      0    0      0     0  ...    0   \n",
       "1                  0                      0    0      0     0  ...    0   \n",
       "2                  1                      0    0      0     0  ...    0   \n",
       "3                  0                      0    0      0     0  ...    0   \n",
       "4                  1                      0    0      0     0  ...    0   \n",
       "\n",
       "   zookeep  zooland  zoologist  zoom  zoroastrian  zsa  zucker  zuckerberg  zz  \n",
       "0        0        0          0     0            0    0       0           0   0  \n",
       "1        0        0          0     0            0    0       0           0   0  \n",
       "2        0        0          0     0            0    0       0           0   0  \n",
       "3        0        0          0     0            0    0       0           0   0  \n",
       "4        0        0          0     0            0    0       0           0   0  \n",
       "\n",
       "[5 rows x 16190 columns]"
      ]
     },
     "execution_count": 37,
     "metadata": {},
     "output_type": "execute_result"
    }
   ],
   "source": [
    "X_train_combin = pd.concat([X_train_metadata, X_traincv], axis=1)\n",
    "X_test_combin = pd.concat([X_test_metadata, X_testcv], axis=1)\n",
    "X_val_combin = pd.concat([val_metadata, X_valcv], axis=1)\n",
    "\n",
    "X_val_combin.head()"
   ]
  },
  {
   "cell_type": "markdown",
   "metadata": {},
   "source": [
    "### Fiting a logistic model"
   ]
  },
  {
   "cell_type": "code",
   "execution_count": 38,
   "metadata": {
    "id": "hrweKV7NLDOx"
   },
   "outputs": [
    {
     "name": "stdout",
     "output_type": "stream",
     "text": [
      "              precision    recall  f1-score   support\n",
      "\n",
      "           0       0.87      0.90      0.88      5947\n",
      "           1       0.88      0.84      0.86      5119\n",
      "\n",
      "    accuracy                           0.87     11066\n",
      "   macro avg       0.87      0.87      0.87     11066\n",
      "weighted avg       0.87      0.87      0.87     11066\n",
      "\n"
     ]
    },
    {
     "data": {
      "text/html": [
       "<div>\n",
       "<style scoped>\n",
       "    .dataframe tbody tr th:only-of-type {\n",
       "        vertical-align: middle;\n",
       "    }\n",
       "\n",
       "    .dataframe tbody tr th {\n",
       "        vertical-align: top;\n",
       "    }\n",
       "\n",
       "    .dataframe thead th {\n",
       "        text-align: right;\n",
       "    }\n",
       "</style>\n",
       "<table border=\"1\" class=\"dataframe\">\n",
       "  <thead>\n",
       "    <tr style=\"text-align: right;\">\n",
       "      <th></th>\n",
       "      <th>0</th>\n",
       "      <th>1</th>\n",
       "    </tr>\n",
       "  </thead>\n",
       "  <tbody>\n",
       "    <tr>\n",
       "      <th>0</th>\n",
       "      <td>5361</td>\n",
       "      <td>586</td>\n",
       "    </tr>\n",
       "    <tr>\n",
       "      <th>1</th>\n",
       "      <td>822</td>\n",
       "      <td>4297</td>\n",
       "    </tr>\n",
       "  </tbody>\n",
       "</table>\n",
       "</div>"
      ],
      "text/plain": [
       "      0     1\n",
       "0  5361   586\n",
       "1   822  4297"
      ]
     },
     "execution_count": 38,
     "metadata": {},
     "output_type": "execute_result"
    }
   ],
   "source": [
    "lr.fit(X_train_combin, y_train)\n",
    "predictions_lr_tf = lr.predict(X_test_combin)\n",
    "\n",
    "print(classification_report(y_test, predictions_lr_tf))\n",
    "pd.DataFrame(confusion_matrix(y_test, predictions_lr_tf))"
   ]
  },
  {
   "cell_type": "code",
   "execution_count": 39,
   "metadata": {},
   "outputs": [],
   "source": [
    "accur_lr_tf = round(accuracy_score(y_test,predictions_lr_tf),2)"
   ]
  },
  {
   "cell_type": "markdown",
   "metadata": {},
   "source": [
    "### Fiting a SVC model"
   ]
  },
  {
   "cell_type": "code",
   "execution_count": 40,
   "metadata": {},
   "outputs": [
    {
     "name": "stderr",
     "output_type": "stream",
     "text": [
      "/Users/linatobon/opt/anaconda3/envs/NLP/lib/python3.8/site-packages/sklearn/svm/_base.py:1206: ConvergenceWarning: Liblinear failed to converge, increase the number of iterations.\n",
      "  warnings.warn(\n"
     ]
    },
    {
     "name": "stdout",
     "output_type": "stream",
     "text": [
      "              precision    recall  f1-score   support\n",
      "\n",
      "           0       0.93      0.76      0.84      5947\n",
      "           1       0.77      0.94      0.84      5119\n",
      "\n",
      "    accuracy                           0.84     11066\n",
      "   macro avg       0.85      0.85      0.84     11066\n",
      "weighted avg       0.86      0.84      0.84     11066\n",
      "\n"
     ]
    },
    {
     "data": {
      "text/html": [
       "<div>\n",
       "<style scoped>\n",
       "    .dataframe tbody tr th:only-of-type {\n",
       "        vertical-align: middle;\n",
       "    }\n",
       "\n",
       "    .dataframe tbody tr th {\n",
       "        vertical-align: top;\n",
       "    }\n",
       "\n",
       "    .dataframe thead th {\n",
       "        text-align: right;\n",
       "    }\n",
       "</style>\n",
       "<table border=\"1\" class=\"dataframe\">\n",
       "  <thead>\n",
       "    <tr style=\"text-align: right;\">\n",
       "      <th></th>\n",
       "      <th>0</th>\n",
       "      <th>1</th>\n",
       "    </tr>\n",
       "  </thead>\n",
       "  <tbody>\n",
       "    <tr>\n",
       "      <th>0</th>\n",
       "      <td>4507</td>\n",
       "      <td>1440</td>\n",
       "    </tr>\n",
       "    <tr>\n",
       "      <th>1</th>\n",
       "      <td>330</td>\n",
       "      <td>4789</td>\n",
       "    </tr>\n",
       "  </tbody>\n",
       "</table>\n",
       "</div>"
      ],
      "text/plain": [
       "      0     1\n",
       "0  4507  1440\n",
       "1   330  4789"
      ]
     },
     "execution_count": 40,
     "metadata": {},
     "output_type": "execute_result"
    }
   ],
   "source": [
    "clf = LinearSVC(random_state=0)\n",
    "clf.fit(X_train_combin,y_train)\n",
    "clf_predictions_tf = clf.predict(X_test_combin)\n",
    "print(classification_report(y_test, clf_predictions_tf))\n",
    "pd.DataFrame(confusion_matrix(y_test, clf_predictions_tf))"
   ]
  },
  {
   "cell_type": "code",
   "execution_count": 41,
   "metadata": {},
   "outputs": [],
   "source": [
    "accur_svc_tf = round(accuracy_score(y_test,clf_predictions_tf),2)"
   ]
  },
  {
   "cell_type": "markdown",
   "metadata": {},
   "source": [
    "### Fiting a Decision Tree model"
   ]
  },
  {
   "cell_type": "code",
   "execution_count": 42,
   "metadata": {},
   "outputs": [
    {
     "name": "stdout",
     "output_type": "stream",
     "text": [
      "              precision    recall  f1-score   support\n",
      "\n",
      "           0       0.87      0.90      0.89      5947\n",
      "           1       0.88      0.85      0.86      5119\n",
      "\n",
      "    accuracy                           0.88     11066\n",
      "   macro avg       0.88      0.87      0.87     11066\n",
      "weighted avg       0.88      0.88      0.88     11066\n",
      "\n"
     ]
    },
    {
     "data": {
      "text/html": [
       "<div>\n",
       "<style scoped>\n",
       "    .dataframe tbody tr th:only-of-type {\n",
       "        vertical-align: middle;\n",
       "    }\n",
       "\n",
       "    .dataframe tbody tr th {\n",
       "        vertical-align: top;\n",
       "    }\n",
       "\n",
       "    .dataframe thead th {\n",
       "        text-align: right;\n",
       "    }\n",
       "</style>\n",
       "<table border=\"1\" class=\"dataframe\">\n",
       "  <thead>\n",
       "    <tr style=\"text-align: right;\">\n",
       "      <th></th>\n",
       "      <th>0</th>\n",
       "      <th>1</th>\n",
       "    </tr>\n",
       "  </thead>\n",
       "  <tbody>\n",
       "    <tr>\n",
       "      <th>0</th>\n",
       "      <td>5353</td>\n",
       "      <td>594</td>\n",
       "    </tr>\n",
       "    <tr>\n",
       "      <th>1</th>\n",
       "      <td>783</td>\n",
       "      <td>4336</td>\n",
       "    </tr>\n",
       "  </tbody>\n",
       "</table>\n",
       "</div>"
      ],
      "text/plain": [
       "      0     1\n",
       "0  5353   594\n",
       "1   783  4336"
      ]
     },
     "execution_count": 42,
     "metadata": {},
     "output_type": "execute_result"
    }
   ],
   "source": [
    "clf_tree = DecisionTreeClassifier(random_state=42)\n",
    "clf_tree.fit(X_train_combin, y_train)\n",
    "tree_tf_predictions = clf_tree.predict(X_test_combin)\n",
    "print(classification_report(y_test, tree_tf_predictions))\n",
    "pd.DataFrame(confusion_matrix(y_test, tree_tf_predictions))"
   ]
  },
  {
   "cell_type": "code",
   "execution_count": 43,
   "metadata": {},
   "outputs": [],
   "source": [
    "accur_tree_tf = round(accuracy_score(y_test,tree_tf_predictions),2)"
   ]
  },
  {
   "cell_type": "markdown",
   "metadata": {},
   "source": [
    "## Model Comparison"
   ]
  },
  {
   "cell_type": "code",
   "execution_count": 44,
   "metadata": {},
   "outputs": [
    {
     "data": {
      "text/html": [
       "<div>\n",
       "<style scoped>\n",
       "    .dataframe tbody tr th:only-of-type {\n",
       "        vertical-align: middle;\n",
       "    }\n",
       "\n",
       "    .dataframe tbody tr th {\n",
       "        vertical-align: top;\n",
       "    }\n",
       "\n",
       "    .dataframe thead th {\n",
       "        text-align: right;\n",
       "    }\n",
       "</style>\n",
       "<table border=\"1\" class=\"dataframe\">\n",
       "  <thead>\n",
       "    <tr style=\"text-align: right;\">\n",
       "      <th></th>\n",
       "      <th>Models</th>\n",
       "      <th>Accuracy</th>\n",
       "    </tr>\n",
       "  </thead>\n",
       "  <tbody>\n",
       "    <tr>\n",
       "      <th>0</th>\n",
       "      <td>DesicionTree_TFIDF</td>\n",
       "      <td>0.87</td>\n",
       "    </tr>\n",
       "    <tr>\n",
       "      <th>1</th>\n",
       "      <td>LogReg_TFIDF</td>\n",
       "      <td>0.85</td>\n",
       "    </tr>\n",
       "    <tr>\n",
       "      <th>2</th>\n",
       "      <td>SVC_TFIDF</td>\n",
       "      <td>0.62</td>\n",
       "    </tr>\n",
       "    <tr>\n",
       "      <th>3</th>\n",
       "      <td>DesicionTree_TF</td>\n",
       "      <td>0.88</td>\n",
       "    </tr>\n",
       "    <tr>\n",
       "      <th>4</th>\n",
       "      <td>LogReg_TF</td>\n",
       "      <td>0.87</td>\n",
       "    </tr>\n",
       "    <tr>\n",
       "      <th>5</th>\n",
       "      <td>SVC_TF</td>\n",
       "      <td>0.84</td>\n",
       "    </tr>\n",
       "  </tbody>\n",
       "</table>\n",
       "</div>"
      ],
      "text/plain": [
       "               Models  Accuracy\n",
       "0  DesicionTree_TFIDF      0.87\n",
       "1        LogReg_TFIDF      0.85\n",
       "2           SVC_TFIDF      0.62\n",
       "3     DesicionTree_TF      0.88\n",
       "4           LogReg_TF      0.87\n",
       "5              SVC_TF      0.84"
      ]
     },
     "execution_count": 44,
     "metadata": {},
     "output_type": "execute_result"
    }
   ],
   "source": [
    "models = ['DesicionTree_TFIDF','LogReg_TFIDF','SVC_TFIDF','DesicionTree_TF','LogReg_TF','SVC_TF']\n",
    "col = [accur_tree_tfidf,accur_lr_tfidf,accur_svc_tfidf, accur_tree_tf,accur_lr_tf, accur_svc_tf ]\n",
    "data = {'Models':models,'Accuracy':col}\n",
    "graph_df = pd.DataFrame(data)\n",
    "graph_df"
   ]
  },
  {
   "cell_type": "markdown",
   "metadata": {},
   "source": [
    "From the table above we can conclude that the model that has the best performance is the decision Tree with the TF method for feature engineering."
   ]
  },
  {
   "cell_type": "markdown",
   "metadata": {},
   "source": [
    "## Classyfing new data"
   ]
  },
  {
   "cell_type": "code",
   "execution_count": 45,
   "metadata": {},
   "outputs": [
    {
     "data": {
      "text/html": [
       "<div>\n",
       "<style scoped>\n",
       "    .dataframe tbody tr th:only-of-type {\n",
       "        vertical-align: middle;\n",
       "    }\n",
       "\n",
       "    .dataframe tbody tr th {\n",
       "        vertical-align: top;\n",
       "    }\n",
       "\n",
       "    .dataframe thead th {\n",
       "        text-align: right;\n",
       "    }\n",
       "</style>\n",
       "<table border=\"1\" class=\"dataframe\">\n",
       "  <thead>\n",
       "    <tr style=\"text-align: right;\">\n",
       "      <th></th>\n",
       "      <th>Polarity</th>\n",
       "      <th>Subjectivity</th>\n",
       "      <th>char_count</th>\n",
       "      <th>word_count</th>\n",
       "      <th>word_density</th>\n",
       "      <th>punctuation_count</th>\n",
       "      <th>upper_case_word_count</th>\n",
       "      <th>aaa</th>\n",
       "      <th>aaron</th>\n",
       "      <th>aarp</th>\n",
       "      <th>...</th>\n",
       "      <th>zoo</th>\n",
       "      <th>zookeep</th>\n",
       "      <th>zooland</th>\n",
       "      <th>zoologist</th>\n",
       "      <th>zoom</th>\n",
       "      <th>zoroastrian</th>\n",
       "      <th>zsa</th>\n",
       "      <th>zucker</th>\n",
       "      <th>zuckerberg</th>\n",
       "      <th>zz</th>\n",
       "    </tr>\n",
       "  </thead>\n",
       "  <tbody>\n",
       "    <tr>\n",
       "      <th>0</th>\n",
       "      <td>0.0</td>\n",
       "      <td>0.0</td>\n",
       "      <td>65</td>\n",
       "      <td>9</td>\n",
       "      <td>6.500000</td>\n",
       "      <td>2</td>\n",
       "      <td>0</td>\n",
       "      <td>0</td>\n",
       "      <td>0</td>\n",
       "      <td>0</td>\n",
       "      <td>...</td>\n",
       "      <td>0</td>\n",
       "      <td>0</td>\n",
       "      <td>0</td>\n",
       "      <td>0</td>\n",
       "      <td>0</td>\n",
       "      <td>0</td>\n",
       "      <td>0</td>\n",
       "      <td>0</td>\n",
       "      <td>0</td>\n",
       "      <td>0</td>\n",
       "    </tr>\n",
       "    <tr>\n",
       "      <th>1</th>\n",
       "      <td>-0.7</td>\n",
       "      <td>1.0</td>\n",
       "      <td>65</td>\n",
       "      <td>9</td>\n",
       "      <td>6.500000</td>\n",
       "      <td>0</td>\n",
       "      <td>0</td>\n",
       "      <td>0</td>\n",
       "      <td>0</td>\n",
       "      <td>0</td>\n",
       "      <td>...</td>\n",
       "      <td>0</td>\n",
       "      <td>0</td>\n",
       "      <td>0</td>\n",
       "      <td>0</td>\n",
       "      <td>0</td>\n",
       "      <td>0</td>\n",
       "      <td>0</td>\n",
       "      <td>0</td>\n",
       "      <td>0</td>\n",
       "      <td>0</td>\n",
       "    </tr>\n",
       "    <tr>\n",
       "      <th>2</th>\n",
       "      <td>1.0</td>\n",
       "      <td>1.0</td>\n",
       "      <td>62</td>\n",
       "      <td>9</td>\n",
       "      <td>6.200000</td>\n",
       "      <td>1</td>\n",
       "      <td>0</td>\n",
       "      <td>0</td>\n",
       "      <td>0</td>\n",
       "      <td>0</td>\n",
       "      <td>...</td>\n",
       "      <td>0</td>\n",
       "      <td>0</td>\n",
       "      <td>0</td>\n",
       "      <td>0</td>\n",
       "      <td>0</td>\n",
       "      <td>0</td>\n",
       "      <td>0</td>\n",
       "      <td>0</td>\n",
       "      <td>0</td>\n",
       "      <td>0</td>\n",
       "    </tr>\n",
       "    <tr>\n",
       "      <th>3</th>\n",
       "      <td>0.0</td>\n",
       "      <td>0.0</td>\n",
       "      <td>28</td>\n",
       "      <td>5</td>\n",
       "      <td>4.666667</td>\n",
       "      <td>0</td>\n",
       "      <td>0</td>\n",
       "      <td>0</td>\n",
       "      <td>0</td>\n",
       "      <td>0</td>\n",
       "      <td>...</td>\n",
       "      <td>0</td>\n",
       "      <td>0</td>\n",
       "      <td>0</td>\n",
       "      <td>0</td>\n",
       "      <td>0</td>\n",
       "      <td>0</td>\n",
       "      <td>0</td>\n",
       "      <td>0</td>\n",
       "      <td>0</td>\n",
       "      <td>0</td>\n",
       "    </tr>\n",
       "    <tr>\n",
       "      <th>4</th>\n",
       "      <td>0.0</td>\n",
       "      <td>0.8</td>\n",
       "      <td>65</td>\n",
       "      <td>11</td>\n",
       "      <td>5.416667</td>\n",
       "      <td>1</td>\n",
       "      <td>0</td>\n",
       "      <td>0</td>\n",
       "      <td>0</td>\n",
       "      <td>0</td>\n",
       "      <td>...</td>\n",
       "      <td>0</td>\n",
       "      <td>0</td>\n",
       "      <td>0</td>\n",
       "      <td>0</td>\n",
       "      <td>0</td>\n",
       "      <td>0</td>\n",
       "      <td>0</td>\n",
       "      <td>0</td>\n",
       "      <td>0</td>\n",
       "      <td>0</td>\n",
       "    </tr>\n",
       "  </tbody>\n",
       "</table>\n",
       "<p>5 rows × 16190 columns</p>\n",
       "</div>"
      ],
      "text/plain": [
       "   Polarity  Subjectivity  char_count  word_count  word_density  \\\n",
       "0       0.0           0.0          65           9      6.500000   \n",
       "1      -0.7           1.0          65           9      6.500000   \n",
       "2       1.0           1.0          62           9      6.200000   \n",
       "3       0.0           0.0          28           5      4.666667   \n",
       "4       0.0           0.8          65          11      5.416667   \n",
       "\n",
       "   punctuation_count  upper_case_word_count  aaa  aaron  aarp  ...  zoo  \\\n",
       "0                  2                      0    0      0     0  ...    0   \n",
       "1                  0                      0    0      0     0  ...    0   \n",
       "2                  1                      0    0      0     0  ...    0   \n",
       "3                  0                      0    0      0     0  ...    0   \n",
       "4                  1                      0    0      0     0  ...    0   \n",
       "\n",
       "   zookeep  zooland  zoologist  zoom  zoroastrian  zsa  zucker  zuckerberg  zz  \n",
       "0        0        0          0     0            0    0       0           0   0  \n",
       "1        0        0          0     0            0    0       0           0   0  \n",
       "2        0        0          0     0            0    0       0           0   0  \n",
       "3        0        0          0     0            0    0       0           0   0  \n",
       "4        0        0          0     0            0    0       0           0   0  \n",
       "\n",
       "[5 rows x 16190 columns]"
      ]
     },
     "execution_count": 45,
     "metadata": {},
     "output_type": "execute_result"
    }
   ],
   "source": [
    "X_val_combin.head()"
   ]
  },
  {
   "cell_type": "code",
   "execution_count": 46,
   "metadata": {},
   "outputs": [],
   "source": [
    "predictions = clf_tree.predict(X_val_combin)\n",
    "res = pd.DataFrame(predictions) #preditcions are nothing but the final predictions of your model on input features of your new unseen test data\n",
    "res.index = X_val_combin.index # its important for comparison. Here \"test_new\" is your new test dataset\n",
    "res.columns = [\"prediction\"]\n",
    "res.to_csv(\"prediction_results.csv\", index = False)      # the csv file will be saved locally on the same location where this notebook is located."
   ]
  },
  {
   "cell_type": "code",
   "execution_count": 47,
   "metadata": {},
   "outputs": [],
   "source": [
    "submission = pd.read_csv(\"prediction_results.csv\")"
   ]
  },
  {
   "cell_type": "code",
   "execution_count": 48,
   "metadata": {},
   "outputs": [
    {
     "data": {
      "text/plain": [
       "prediction\n",
       "0             6314\n",
       "1             4752\n",
       "dtype: int64"
      ]
     },
     "execution_count": 48,
     "metadata": {},
     "output_type": "execute_result"
    }
   ],
   "source": [
    "submission.value_counts()"
   ]
  },
  {
   "cell_type": "markdown",
   "metadata": {},
   "source": [
    "## conclusions\n",
    "* Data preparation: we eliminated double blanks, converted text to lowercase, removed stopwords and applied stemming to the texts.\n",
    "* For feature extraction, we have created variables based on the length of the texts and words, as well as from the number of punctuation marks in the texts. we also used the tfidf and TF methods to extract features from the frequency of words in the different documents.\n",
    "* Three models were trained for each of the datasets (with features from TFIDF and with features from TF). surprisingly, the best performing model is the one that uses feature engineering with TF and applies a decision tree model.\n"
   ]
  }
 ],
 "metadata": {
  "colab": {
   "collapsed_sections": [],
   "name": "BootcampNLP.ipynb",
   "provenance": []
  },
  "kernelspec": {
   "display_name": "Python 3 (ipykernel)",
   "language": "python",
   "name": "python3"
  },
  "language_info": {
   "codemirror_mode": {
    "name": "ipython",
    "version": 3
   },
   "file_extension": ".py",
   "mimetype": "text/x-python",
   "name": "python",
   "nbconvert_exporter": "python",
   "pygments_lexer": "ipython3",
   "version": "3.8.12"
  }
 },
 "nbformat": 4,
 "nbformat_minor": 1
}
